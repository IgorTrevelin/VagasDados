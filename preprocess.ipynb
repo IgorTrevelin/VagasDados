{
 "cells": [
  {
   "cell_type": "code",
   "execution_count": 1,
   "metadata": {},
   "outputs": [],
   "source": [
    "import re\n",
    "from unidecode import unidecode\n",
    "import pandas as pd\n",
    "from ibge.localidades import Municipios\n",
    "\n",
    "cidades = Municipios().json()\n",
    "cidades = {cidade['nome']: cidade['microrregiao']['mesorregiao']['UF']['sigla'] for cidade in cidades}\n",
    "\n",
    "linkedin = pd.read_excel('dados/vagas.xlsx', sheet_name='LinkedIn')\n",
    "vagas = pd.read_excel('dados/vagas.xlsx', sheet_name='vagas.com.br')"
   ]
  },
  {
   "cell_type": "code",
   "execution_count": 2,
   "metadata": {},
   "outputs": [
    {
     "name": "stdout",
     "output_type": "stream",
     "text": [
      "<class 'pandas.core.frame.DataFrame'>\n",
      "RangeIndex: 851 entries, 0 to 850\n",
      "Data columns (total 10 columns):\n",
      " #   Column       Non-Null Count  Dtype \n",
      "---  ------       --------------  ----- \n",
      " 0   Data         851 non-null    object\n",
      " 1   Empresa      851 non-null    object\n",
      " 2   Título       851 non-null    object\n",
      " 3   Localização  851 non-null    object\n",
      " 4   Descrição    851 non-null    object\n",
      " 5   Nível        851 non-null    object\n",
      " 6   Tipo         851 non-null    object\n",
      " 7   Função       851 non-null    object\n",
      " 8   Indústria    851 non-null    object\n",
      " 9   Link         851 non-null    object\n",
      "dtypes: object(10)\n",
      "memory usage: 66.6+ KB\n",
      "None\n",
      "<class 'pandas.core.frame.DataFrame'>\n",
      "RangeIndex: 722 entries, 0 to 721\n",
      "Data columns (total 7 columns):\n",
      " #   Column       Non-Null Count  Dtype \n",
      "---  ------       --------------  ----- \n",
      " 0   Data         722 non-null    object\n",
      " 1   Título       722 non-null    object\n",
      " 2   Empresa      722 non-null    object\n",
      " 3   Descrição    722 non-null    object\n",
      " 4   Localização  722 non-null    object\n",
      " 5   Nível        722 non-null    object\n",
      " 6   Link         722 non-null    object\n",
      "dtypes: object(7)\n",
      "memory usage: 39.6+ KB\n",
      "None\n"
     ]
    }
   ],
   "source": [
    "print(linkedin.info())\n",
    "print(vagas.info())"
   ]
  },
  {
   "cell_type": "code",
   "execution_count": 3,
   "metadata": {},
   "outputs": [],
   "source": [
    "linkedin['Data'] = pd.to_datetime(linkedin['Data'], errors='coerce', format='%Y-%m-%d')\n",
    "vagas['Data'] = pd.to_datetime(vagas['Data'], errors='coerce', format='%d/%m/%Y')"
   ]
  },
  {
   "cell_type": "code",
   "execution_count": 4,
   "metadata": {},
   "outputs": [
    {
     "data": {
      "text/plain": [
       "(1573, 7)"
      ]
     },
     "execution_count": 4,
     "metadata": {},
     "output_type": "execute_result"
    }
   ],
   "source": [
    "cols = ['Data', 'Título', 'Empresa', 'Descrição', 'Localização', 'Nível', 'Link']\n",
    "linkedin = linkedin.loc[:, cols]\n",
    "vagas = vagas.loc[:, cols]\n",
    "\n",
    "df = pd.concat((linkedin, vagas), axis=0)\n",
    "df.shape"
   ]
  },
  {
   "cell_type": "code",
   "execution_count": 5,
   "metadata": {},
   "outputs": [
    {
     "data": {
      "text/plain": [
       "array(['Não/aplicável', 'Pleno-sênior', 'Júnior', 'Assistente', 'Estágio',\n",
       "       'Executivo', 'Pleno', 'Sênior', 'Júnior/Trainee',\n",
       "       'Auxiliar/Operacional', 'Supervisão/Coordenação', 'Técnico',\n",
       "       'Gerência'], dtype=object)"
      ]
     },
     "execution_count": 5,
     "metadata": {},
     "output_type": "execute_result"
    }
   ],
   "source": [
    "df['Nível'] = df['Nível'].str.replace('[/\\n\\s]+', '/', regex=True)\n",
    "df['Nível'].unique()"
   ]
  },
  {
   "cell_type": "code",
   "execution_count": 6,
   "metadata": {},
   "outputs": [
    {
     "data": {
      "text/plain": [
       "<NA>                      1176\n",
       "Analista de Dados          248\n",
       "Cientista de Dados          64\n",
       "Engenheiro(a) de Dados      32\n",
       "Analista de BI              19\n",
       "Especialista de Dados       16\n",
       "Assistente de Dados          7\n",
       "Estagiário em BI             5\n",
       "Analista de Negócios         4\n",
       "Auxiliar de Dados            2\n",
       "Name: Cargo, dtype: int64"
      ]
     },
     "execution_count": 6,
     "metadata": {},
     "output_type": "execute_result"
    }
   ],
   "source": [
    "def identifica_cargo(titulo):\n",
    "    kwmap = {\n",
    "        'Cientista de Dados': [('cientista', 'dados'), ('data', 'scientist'), ('data', 'science'), ('ciencia', 'dados')],\n",
    "        'Analista de Dados': [('analista', 'dados'), ('data', 'analyst'), ('analise', 'dados'), ('data', 'analytics')],\n",
    "        'Analista de Negócios': [('analista', 'negocio'), ('business', 'analyst'), ('business', 'analytics')],\n",
    "        'Engenheiro(a) de Dados': [('engenheiro', 'dados'), ('data', 'engineer'), ('engenharia', 'dados'), ('engenheira', 'dados')],\n",
    "        'Assistente de Dados': [('assistente', 'dados')],\n",
    "        'Auxiliar de Dados': [('auxiliar', 'dados')],\n",
    "        'Analista de BI': [('analista', 'bi'), ('bi', 'analyst')],\n",
    "        'Especialista de Dados': [('especialista', 'dados'), ('data', 'expert')],\n",
    "        'Estagiário em BI': [('estagiario', 'bi'), ('estagiario', 'business', 'intelligence')]\n",
    "    }\n",
    "    \n",
    "    words = unidecode(titulo).lower().split(' ')\n",
    "    \n",
    "    for cargo, kws in kwmap.items():\n",
    "        for kw in kws:\n",
    "            exists = [True if w in words else False for w in kw]\n",
    "            if all(exists):\n",
    "                return cargo\n",
    "            \n",
    "    return pd.NA\n",
    "\n",
    "df['Cargo'] = df['Título'].apply(identifica_cargo)\n",
    "df['Cargo'].value_counts(sort=True, ascending=False, dropna=False)"
   ]
  },
  {
   "cell_type": "code",
   "execution_count": 7,
   "metadata": {},
   "outputs": [
    {
     "data": {
      "text/plain": [
       "(397, 8)"
      ]
     },
     "execution_count": 7,
     "metadata": {},
     "output_type": "execute_result"
    }
   ],
   "source": [
    "df.dropna(subset=['Cargo'], inplace=True)\n",
    "df.shape"
   ]
  },
  {
   "cell_type": "code",
   "execution_count": 8,
   "metadata": {},
   "outputs": [
    {
     "data": {
      "text/plain": [
       "array(['São Paulo, SP', 'Florianópolis, SC', 'Nova Iguaçu, RJ',\n",
       "       'Curitiba, PR', 'Recife, PE', 'Rio de Janeiro, RJ', 'Brasil',\n",
       "       'Porto Alegre e Região', 'Belo Horizonte, MG', 'Agudos, SP',\n",
       "       'Vinhedo, SP', 'Paracatu, MG', 'Santa Catarina, Brasil',\n",
       "       'Brasília, DF', 'Barueri, SP', 'Recife e Região', 'Jandira, SP',\n",
       "       'Valinhos, SP', 'São Paulo, Brasil', 'Sorocaba, SP',\n",
       "       'Nova Lima, MG', 'Rio Verde, GO', 'São José dos Campos, SP',\n",
       "       'Porto Alegre, RS', 'Contagem, MG', 'Guarulhos, SP',\n",
       "       'Piracicaba, SP', 'Goiânia, GO', 'Marechal Deodoro, AL',\n",
       "       'Vitória, ES', 'Rio do Sul, SC', 'Ponta Grossa, PR',\n",
       "       'Juiz de Fora, MG', 'Monte Mor, SP', 'Florianópolis e Região',\n",
       "       'Macaé, RJ', 'Osasco, SP', 'Campinas e Região', 'Cascavel, PR',\n",
       "       'Palhoça, SC', 'São Paulo e Região', 'Campinas, SP',\n",
       "       'São José, SC', 'Farroupilha, RS', 'Aracruz, ES',\n",
       "       'São José do Rio Preto, SP', 'Mogi das Cruzes, SP',\n",
       "       'Fortaleza, CE', 'Belém, PA', 'Manaus, AM', 'Canoas, RS',\n",
       "       'Salvador, BA', 'Itajaí, SC', 'Caucaia do Alto, SP',\n",
       "       'Vila Velha, ES', 'São Bernardo do Campo, SP',\n",
       "       'São José dos Pinhais, PR', 'Itabira, MG', 'Uberlândia, MG',\n",
       "       'Lins, SP', 'Santa Maria, RS', 'São Caetano do Sul, SP',\n",
       "       'Cariacica, ES', 'Ananindeua, PA', 'Ipuã, SP', 'Araruama, RJ',\n",
       "       'Cuiabá, MT', 'Chapecó, SC', 'Diadema, SP', 'Novo Hamburgo, RS',\n",
       "       'Blumenau, SC', 'Paulínia, SP', 'Ribeirão Preto, SP',\n",
       "       'Jaguariúna, SP', 'Vazante, MG', 'São Paulo', '100% Home Office',\n",
       "       'Monte Mor', 'Todo o Brasil', 'Contagem', 'Rio de Janeiro',\n",
       "       'Minas Gerais', 'Macaé', 'Ribeirão Preto', 'Belo Horizonte',\n",
       "       'Rio Grande do Norte'], dtype=object)"
      ]
     },
     "execution_count": 8,
     "metadata": {},
     "output_type": "execute_result"
    }
   ],
   "source": [
    "df['Localização'].unique()"
   ]
  },
  {
   "cell_type": "code",
   "execution_count": 9,
   "metadata": {},
   "outputs": [],
   "source": [
    "def processa_localizacao(localizacao):\n",
    "    regex = '^(.+)(, | e )(.+)$'\n",
    "    s = re.search(regex, localizacao)\n",
    "    if s:\n",
    "        cidade = s.group(1)\n",
    "        if cidade in cidades:\n",
    "            return f'{cidade}/{cidades[cidade]}'\n",
    "\n",
    "    return localizacao.replace(', ','/')\n",
    "    \n",
    "df['Localização'] = df['Localização'].apply(processa_localizacao)"
   ]
  },
  {
   "cell_type": "code",
   "execution_count": 10,
   "metadata": {},
   "outputs": [],
   "source": [
    "df = df.reset_index().drop('index', axis=1)\n",
    "with pd.ExcelWriter('dados/vagas_processado.xlsx', engine='auto') as writer:\n",
    "    df.to_excel(writer, 'Vagas', index=False)"
   ]
  }
 ],
 "metadata": {
  "kernelspec": {
   "display_name": "vagadados",
   "language": "python",
   "name": "python3"
  },
  "language_info": {
   "codemirror_mode": {
    "name": "ipython",
    "version": 3
   },
   "file_extension": ".py",
   "mimetype": "text/x-python",
   "name": "python",
   "nbconvert_exporter": "python",
   "pygments_lexer": "ipython3",
   "version": "3.10.8"
  },
  "orig_nbformat": 4,
  "vscode": {
   "interpreter": {
    "hash": "24dbd857dde06c79925b87e4ee0d09b07ef4808c8026cfd01927bd5248e88df0"
   }
  }
 },
 "nbformat": 4,
 "nbformat_minor": 2
}
